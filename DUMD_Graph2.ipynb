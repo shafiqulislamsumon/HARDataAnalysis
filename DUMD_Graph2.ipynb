{
 "cells": [
  {
   "cell_type": "code",
   "execution_count": 1,
   "metadata": {},
   "outputs": [],
   "source": [
    "import numpy as np\n",
    "import pandas as pd\n",
    "import seaborn as sns"
   ]
  },
  {
   "cell_type": "code",
   "execution_count": 2,
   "metadata": {},
   "outputs": [
    {
     "data": {
      "text/html": [
       "<div>\n",
       "<style scoped>\n",
       "    .dataframe tbody tr th:only-of-type {\n",
       "        vertical-align: middle;\n",
       "    }\n",
       "\n",
       "    .dataframe tbody tr th {\n",
       "        vertical-align: top;\n",
       "    }\n",
       "\n",
       "    .dataframe thead th {\n",
       "        text-align: right;\n",
       "    }\n",
       "</style>\n",
       "<table border=\"1\" class=\"dataframe\">\n",
       "  <thead>\n",
       "    <tr style=\"text-align: right;\">\n",
       "      <th></th>\n",
       "      <th>Missing Data</th>\n",
       "      <th>Window</th>\n",
       "      <th>Accuracy</th>\n",
       "      <th>Classifier</th>\n",
       "    </tr>\n",
       "  </thead>\n",
       "  <tbody>\n",
       "    <tr>\n",
       "      <th>0</th>\n",
       "      <td>2%</td>\n",
       "      <td>1s</td>\n",
       "      <td>86</td>\n",
       "      <td>RnF</td>\n",
       "    </tr>\n",
       "    <tr>\n",
       "      <th>1</th>\n",
       "      <td>2%</td>\n",
       "      <td>1s</td>\n",
       "      <td>86</td>\n",
       "      <td>SVM</td>\n",
       "    </tr>\n",
       "    <tr>\n",
       "      <th>2</th>\n",
       "      <td>2%</td>\n",
       "      <td>1.5s</td>\n",
       "      <td>91</td>\n",
       "      <td>RnF</td>\n",
       "    </tr>\n",
       "    <tr>\n",
       "      <th>3</th>\n",
       "      <td>2%</td>\n",
       "      <td>1.5s</td>\n",
       "      <td>91</td>\n",
       "      <td>SVM</td>\n",
       "    </tr>\n",
       "    <tr>\n",
       "      <th>4</th>\n",
       "      <td>2%</td>\n",
       "      <td>2s</td>\n",
       "      <td>96</td>\n",
       "      <td>RnF</td>\n",
       "    </tr>\n",
       "  </tbody>\n",
       "</table>\n",
       "</div>"
      ],
      "text/plain": [
       "  Missing Data Window  Accuracy Classifier\n",
       "0           2%     1s        86        RnF\n",
       "1           2%     1s        86        SVM\n",
       "2           2%   1.5s        91        RnF\n",
       "3           2%   1.5s        91        SVM\n",
       "4           2%     2s        96        RnF"
      ]
     },
     "execution_count": 2,
     "metadata": {},
     "output_type": "execute_result"
    }
   ],
   "source": [
    "df_test = pd.read_csv('./dumddata/3dumd_test_window_graph2.csv')\n",
    "df_test.head()"
   ]
  },
  {
   "cell_type": "code",
   "execution_count": 5,
   "metadata": {},
   "outputs": [
    {
     "data": {
      "text/plain": [
       "<seaborn.axisgrid.FacetGrid at 0x1a066836940>"
      ]
     },
     "execution_count": 5,
     "metadata": {},
     "output_type": "execute_result"
    },
    {
     "data": {
      "image/png": "[encoded data removed]",
      "text/plain": [
       "<Figure size 835.35x288 with 3 Axes>"
      ]
     },
     "metadata": {
      "needs_background": "light"
     },
     "output_type": "display_data"
    }
   ],
   "source": [
    "g = sns.catplot(x=\"Missing Data\", y = \"Accuracy\", hue=\"Classifier\", col=\"Window\", palette=sns.color_palette(\"Set2\"), \n",
    "                data=df_test, kind=\"bar\", height=4, aspect=.9);\n",
    "g.set_axis_labels(\"Missing Data\",\"Accuracy\")\n",
    "g.set(ylim=(0, 100))"
   ]
  },
  {
   "cell_type": "code",
   "execution_count": 6,
   "metadata": {},
   "outputs": [
    {
     "data": {
      "text/html": [
       "<div>\n",
       "<style scoped>\n",
       "    .dataframe tbody tr th:only-of-type {\n",
       "        vertical-align: middle;\n",
       "    }\n",
       "\n",
       "    .dataframe tbody tr th {\n",
       "        vertical-align: top;\n",
       "    }\n",
       "\n",
       "    .dataframe thead th {\n",
       "        text-align: right;\n",
       "    }\n",
       "</style>\n",
       "<table border=\"1\" class=\"dataframe\">\n",
       "  <thead>\n",
       "    <tr style=\"text-align: right;\">\n",
       "      <th></th>\n",
       "      <th>Missing Data</th>\n",
       "      <th>Window</th>\n",
       "      <th>Accuracy</th>\n",
       "      <th>Classifier</th>\n",
       "    </tr>\n",
       "  </thead>\n",
       "  <tbody>\n",
       "    <tr>\n",
       "      <th>0</th>\n",
       "      <td>2%</td>\n",
       "      <td>1s</td>\n",
       "      <td>87</td>\n",
       "      <td>RnF</td>\n",
       "    </tr>\n",
       "    <tr>\n",
       "      <th>1</th>\n",
       "      <td>2%</td>\n",
       "      <td>1s</td>\n",
       "      <td>87</td>\n",
       "      <td>SVM</td>\n",
       "    </tr>\n",
       "    <tr>\n",
       "      <th>2</th>\n",
       "      <td>2%</td>\n",
       "      <td>1.5s</td>\n",
       "      <td>92</td>\n",
       "      <td>RnF</td>\n",
       "    </tr>\n",
       "    <tr>\n",
       "      <th>3</th>\n",
       "      <td>2%</td>\n",
       "      <td>1.5s</td>\n",
       "      <td>92</td>\n",
       "      <td>SVM</td>\n",
       "    </tr>\n",
       "    <tr>\n",
       "      <th>4</th>\n",
       "      <td>2%</td>\n",
       "      <td>2s</td>\n",
       "      <td>97</td>\n",
       "      <td>RnF</td>\n",
       "    </tr>\n",
       "  </tbody>\n",
       "</table>\n",
       "</div>"
      ],
      "text/plain": [
       "  Missing Data Window  Accuracy Classifier\n",
       "0           2%     1s        87        RnF\n",
       "1           2%     1s        87        SVM\n",
       "2           2%   1.5s        92        RnF\n",
       "3           2%   1.5s        92        SVM\n",
       "4           2%     2s        97        RnF"
      ]
     },
     "execution_count": 6,
     "metadata": {},
     "output_type": "execute_result"
    }
   ],
   "source": [
    "df_train_test = pd.read_csv('./dumddata/4dumd_train_test_window_graph2.csv')\n",
    "df_train_test.head()"
   ]
  },
  {
   "cell_type": "code",
   "execution_count": 8,
   "metadata": {},
   "outputs": [
    {
     "data": {
      "text/plain": [
       "<seaborn.axisgrid.FacetGrid at 0x1a066d6ca90>"
      ]
     },
     "execution_count": 8,
     "metadata": {},
     "output_type": "execute_result"
    },
    {
     "data": {
      "image/png": "[encoded data removed]",
      "text/plain": [
       "<Figure size 835.35x288 with 3 Axes>"
      ]
     },
     "metadata": {
      "needs_background": "light"
     },
     "output_type": "display_data"
    }
   ],
   "source": [
    "color_list = [\"#9b59b6\", \"#2ecc71\"]\n",
    "g = sns.catplot(x=\"Missing Data\", y = \"Accuracy\", hue=\"Classifier\", col=\"Window\", palette=sns.color_palette(color_list), \n",
    "                data=df_train_test, kind=\"bar\", height=4, aspect=.9);\n",
    "g.set_axis_labels(\"Missing Data\",\"Accuracy\")\n",
    "g.set(ylim=(0, 100))"
   ]
  },
  {
   "cell_type": "code",
   "execution_count": null,
   "metadata": {},
   "outputs": [],
   "source": []
  }
 ],
 "metadata": {
  "kernelspec": {
   "display_name": "Python 3",
   "language": "python",
   "name": "python3"
  },
  "language_info": {
   "codemirror_mode": {
    "name": "ipython",
    "version": 3
   },
   "file_extension": ".py",
   "mimetype": "text/x-python",
   "name": "python",
   "nbconvert_exporter": "python",
   "pygments_lexer": "ipython3",
   "version": "3.6.7"
  }
 },
 "nbformat": 4,
 "nbformat_minor": 2
}
